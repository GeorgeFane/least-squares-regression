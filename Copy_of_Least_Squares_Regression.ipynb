{
  "nbformat": 4,
  "nbformat_minor": 0,
  "metadata": {
    "kernelspec": {
      "display_name": "Python 3",
      "language": "python",
      "name": "python3"
    },
    "language_info": {
      "codemirror_mode": {
        "name": "ipython",
        "version": 3
      },
      "file_extension": ".py",
      "mimetype": "text/x-python",
      "name": "python",
      "nbconvert_exporter": "python",
      "pygments_lexer": "ipython3",
      "version": "3.7.6"
    },
    "colab": {
      "name": "Copy of Least-Squares Regression.ipynb",
      "provenance": [],
      "collapsed_sections": [],
      "include_colab_link": true
    }
  },
  "cells": [
    {
      "cell_type": "markdown",
      "metadata": {
        "id": "view-in-github",
        "colab_type": "text"
      },
      "source": [
        "<a href=\"https://colab.research.google.com/github/GeorgeFane/least-squares-regression/blob/master/Copy_of_Least_Squares_Regression.ipynb\" target=\"_parent\"><img src=\"https://colab.research.google.com/assets/colab-badge.svg\" alt=\"Open In Colab\"/></a>"
      ]
    },
    {
      "cell_type": "markdown",
      "metadata": {
        "id": "a5B5uUzqioLr",
        "colab_type": "text"
      },
      "source": [
        "jupyter notebook \\ --NotebookApp.allow_origin='https://colab.research.google.com' \\ --port=8888 \\ --NotebookApp.port_retries=0"
      ]
    },
    {
      "cell_type": "code",
      "metadata": {
        "id": "sW16yAifqAND",
        "colab_type": "code",
        "colab": {}
      },
      "source": [
        "from jupyter_dash import JupyterDash\n",
        "\n",
        "import dash\n",
        "import dash_core_components as dcc\n",
        "import dash_html_components as html\n",
        "\n",
        "from dash.dependencies import Input, Output\n",
        "from dash_table import DataTable\n",
        "\n",
        "from random import uniform"
      ],
      "execution_count": 67,
      "outputs": []
    },
    {
      "cell_type": "markdown",
      "metadata": {
        "id": "6XWRvPMurD_5",
        "colab_type": "text"
      },
      "source": [
        "The below function has a similar purpose to group() in my Payoff Matrix Solvers. It takes a string, containing space-separated numbers, and splits them into a list of pairs of floats. In context, it takes a string of coordinates and formats them into (x, y) pairs."
      ]
    },
    {
      "cell_type": "code",
      "metadata": {
        "id": "VGVzNmNTqANU",
        "colab_type": "code",
        "colab": {}
      },
      "source": [
        "def getPairs(string):\n",
        "    row=list(map(float, string.split()))\n",
        "    return [row[i: i+2] for i in range(len(row)) if i%2==0]"
      ],
      "execution_count": 68,
      "outputs": []
    },
    {
      "cell_type": "markdown",
      "metadata": {
        "id": "KUjG7zSTrr5F",
        "colab_type": "text"
      },
      "source": [
        "Self-explanatory. As one use, it turns my (x, y) pairs into a list of just x-values and a list of just y-values."
      ]
    },
    {
      "cell_type": "code",
      "metadata": {
        "id": "bILbPWjQqANg",
        "colab_type": "code",
        "colab": {}
      },
      "source": [
        "def transpose(matrix):\n",
        "    return [[row[j] for row in matrix] for j in range(len(matrix[0]))]"
      ],
      "execution_count": 69,
      "outputs": []
    },
    {
      "cell_type": "markdown",
      "metadata": {
        "id": "dBp2ad9lrt3i",
        "colab_type": "text"
      },
      "source": [
        "Let's say you have a few points that you want to fit to a quadratic equation. That means you want to find a, b, and c such that a + bx + cx^2 = y is as accurate a model as possible. Expressed in matrix terms with points (x0, y0), (x1, y1), and (x2, y2):\n",
        "\n",
        "    [\n",
        "        [x0^0, x0^1, x0^2],\n",
        "        [x1^0, x1^1, x1^2],\n",
        "        [x2^0, x2^1, x2^2],\n",
        "    ]\n",
        "    *\n",
        "    [\n",
        "        [a],\n",
        "        [b],\n",
        "        [c],\n",
        "    ]\n",
        "    =\n",
        "    [\n",
        "        [y0],\n",
        "        [y1],\n",
        "        [y2],\n",
        "    ]\n",
        "The below function generates the first matrix given a list of x-values. The first matrix is called A in the above embedded website, so I call the function getA()."
      ]
    },
    {
      "cell_type": "code",
      "metadata": {
        "id": "ZPlhNVYjqANv",
        "colab_type": "code",
        "colab": {}
      },
      "source": [
        "def getA(xlist, degrees):\n",
        "    return [[x**degree for degree in range(degrees+1)] for x in xlist]"
      ],
      "execution_count": 70,
      "outputs": []
    },
    {
      "cell_type": "markdown",
      "metadata": {
        "id": "qW9lH_2BvC75",
        "colab_type": "text"
      },
      "source": [
        "This is a simple dot product. It helps with matrix multiplication."
      ]
    },
    {
      "cell_type": "code",
      "metadata": {
        "id": "JIZDSyX8qAN5",
        "colab_type": "code",
        "colab": {}
      },
      "source": [
        "def dot(u, v):\n",
        "    return sum([x*y for x, y in zip(u, v)])"
      ],
      "execution_count": 71,
      "outputs": []
    },
    {
      "cell_type": "markdown",
      "metadata": {
        "id": "HxlGHiVivKR6",
        "colab_type": "text"
      },
      "source": [
        "Because matrix multiplication means a bunch of dot products between the first matrix's rows and the second's columns, I transpose the second so I can more easily perform dot products."
      ]
    },
    {
      "cell_type": "code",
      "metadata": {
        "id": "5pWF8QuUqAOE",
        "colab_type": "code",
        "colab": {}
      },
      "source": [
        "def multiply(a, b):\n",
        "    return [[dot(row, column) for column in transpose(b)] for row in a]"
      ],
      "execution_count": 72,
      "outputs": []
    },
    {
      "cell_type": "markdown",
      "metadata": {
        "id": "zste3bFGvi9X",
        "colab_type": "text"
      },
      "source": [
        "This combines the corresponding rows of two matrices and returns the augmented matrix."
      ]
    },
    {
      "cell_type": "code",
      "metadata": {
        "id": "IyimhRpTqAOP",
        "colab_type": "code",
        "colab": {}
      },
      "source": [
        "def augment(a, b):\n",
        "    return [x+y for x, y in zip(a, b)]"
      ],
      "execution_count": 73,
      "outputs": []
    },
    {
      "cell_type": "markdown",
      "metadata": {
        "id": "CrqWrYerv6h2",
        "colab_type": "text"
      },
      "source": [
        "The name for the below function isn't great. It goes through a vector and returns the first nonzero value. "
      ]
    },
    {
      "cell_type": "code",
      "metadata": {
        "id": "CWO2sZMvqAOb",
        "colab_type": "code",
        "colab": {}
      },
      "source": [
        "def getConstant(v):\n",
        "    for x in v:\n",
        "        if x!=0:\n",
        "            return x"
      ],
      "execution_count": 74,
      "outputs": []
    },
    {
      "cell_type": "markdown",
      "metadata": {
        "id": "yn1XV4V9wlww",
        "colab_type": "text"
      },
      "source": [
        "I use the below function to help with getting Reduced Row-Echelon Form for matrices. It takes a row vector and divides every entry by some constant, provided by the above function, to make sure it has a leading 1.\n",
        "\n",
        "This probably should be a void or mutator function, but having it return something makes it easier to test."
      ]
    },
    {
      "cell_type": "code",
      "metadata": {
        "id": "aUKBwsGRqAOm",
        "colab_type": "code",
        "colab": {}
      },
      "source": [
        "def simplify(v):\n",
        "    constant=getConstant(v)\n",
        "    return [x/constant for x in v]"
      ],
      "execution_count": 75,
      "outputs": []
    },
    {
      "cell_type": "markdown",
      "metadata": {
        "id": "fxTBS3nbxNeB",
        "colab_type": "text"
      },
      "source": [
        "The below function performs: row v minus a multiple of row u. I make sure to only pass rows with leading 1s as u, so that the multiple is simply the entry in row v with the same column number as the leading 1 in row u."
      ]
    },
    {
      "cell_type": "code",
      "metadata": {
        "id": "OkxVq2lNqAOy",
        "colab_type": "code",
        "colab": {}
      },
      "source": [
        "def clear(u, v):\n",
        "    i=u.index(1)\n",
        "    constant=v[i]\n",
        "    return [y-constant*x for x, y in zip(u, v)]"
      ],
      "execution_count": 76,
      "outputs": []
    },
    {
      "cell_type": "markdown",
      "metadata": {
        "id": "RJm92yKJy46m",
        "colab_type": "text"
      },
      "source": [
        "Below is my function to change matrices to Reduced Row-Echelon Form. I augment Matrix A with a column vector of corresponding y-values and solve the combined matrix with the below function to get a column vector of coefficients a, b, c...\n",
        "\n",
        "This function has many possible errors. For one, if the first row starts with a 0, this function doesn't even think of swapping rows. However, this probably won't happen as Matrix A's first column is filled with x^0 terms."
      ]
    },
    {
      "cell_type": "code",
      "metadata": {
        "id": "z9hHsU-xqAPO",
        "colab_type": "code",
        "colab": {}
      },
      "source": [
        "def reduce(matrix):\n",
        "    height=len(matrix)\n",
        "    \n",
        "    for i in range(height):\n",
        "        matrix[i]=simplify(matrix[i])\n",
        "        \n",
        "        for j in range(i+1, height):\n",
        "            matrix[j]=clear(matrix[i], matrix[j])\n",
        "            \n",
        "    for i in range(height):\n",
        "        for j in range(i+1, height):\n",
        "            matrix[i]=clear(matrix[j], matrix[i])\n",
        "            \n",
        "    return matrix"
      ],
      "execution_count": 77,
      "outputs": []
    },
    {
      "cell_type": "markdown",
      "metadata": {
        "id": "I81kCkcp1D3W",
        "colab_type": "text"
      },
      "source": [
        "This wraps several of the above functions into a single function that goes from simple x-values, y-values, and polynomial degree to a complete best-fit polynomial's coefficients."
      ]
    },
    {
      "cell_type": "code",
      "metadata": {
        "id": "UETsb0wSqAPY",
        "colab_type": "code",
        "colab": {}
      },
      "source": [
        "def getCoefs(x, y, degrees):\n",
        "    a=getA(x, degrees)\n",
        "    aT=transpose(a)\n",
        "    \n",
        "    b=[[y0] for y0 in y]\n",
        "    \n",
        "    aTa=multiply(aT, a)\n",
        "    aTb=multiply(aT, b)\n",
        "    \n",
        "    system=augment(aTa, aTb)\n",
        "    \n",
        "    return [row[-1] for row in reduce(system)]"
      ],
      "execution_count": 78,
      "outputs": []
    },
    {
      "cell_type": "markdown",
      "metadata": {
        "id": "H-chtQNuxtAq",
        "colab_type": "text"
      },
      "source": [
        "The below function is my poor man's version of NumPy's linspace(). While the latter returns n evenly-spaced numbers between lower and upper bounds, mine generates 99 random numbers between those bounds and then returns the sorted listed. I use this function after I know the equation for the line of best fit. It helps me get the data to plot that line."
      ]
    },
    {
      "cell_type": "code",
      "metadata": {
        "id": "RwgYs2dtqAO7",
        "colab_type": "code",
        "colab": {}
      },
      "source": [
        "def randX(down, up):\n",
        "    return sorted([uniform(down, up) for i in range(99)])"
      ],
      "execution_count": 79,
      "outputs": []
    },
    {
      "cell_type": "markdown",
      "metadata": {
        "id": "3uMkEyOiyb2x",
        "colab_type": "text"
      },
      "source": [
        "The below function takes a row vector of x-values, gets the A matrix for them, and returns a row vector of corresponding y-values\n",
        "\n",
        "CHANGE THIS"
      ]
    },
    {
      "cell_type": "code",
      "metadata": {
        "id": "yGswMenzmX_G",
        "colab_type": "code",
        "colab": {}
      },
      "source": [
        "f = lambda coefs, x: sum([coef*x**power for power, coef in enumerate(coefs)])"
      ],
      "execution_count": 80,
      "outputs": []
    },
    {
      "cell_type": "markdown",
      "metadata": {
        "id": "NZmqQAlo1c0Q",
        "colab_type": "text"
      },
      "source": [
        "We're finally at the frontend bit of the code!.\n",
        "\n",
        "The first line initializes the app. By using JupyterDash, I can run my app inline. I actually didn't know I could use that in Google Colab. I simply inferred from the name that I could only use it in Jupyter and didn't realize the truth until importing that notebook into Colab to write all these text cells and copy to Github Gist.\n",
        "\n",
        "Anyways, app.layout is pretty easy to write because you're just listing all the components that you need. I have lots of breaklines, labels, and input fields, and then a graph and an H1 for a title."
      ]
    },
    {
      "cell_type": "code",
      "metadata": {
        "id": "VTPF3R27qAPk",
        "colab_type": "code",
        "colab": {}
      },
      "source": [
        "\n",
        "external_stylesheets = ['https://codepen.io/chriddyp/pen/bWLwgP.css']\n",
        "\n",
        "app=JupyterDash(__name__, external_stylesheets=external_stylesheets)\n",
        "\n",
        "app.layout = html.Div([\n",
        "    html.H1('Least-Squares Regression'),\n",
        "    \n",
        "    html.Label('Space-Separated Data: '),\n",
        "    dcc.Input(id='points', value='1 0 2 3 3 7 4 14 5 22'),\n",
        "    html.Br(),\n",
        "\n",
        "    html.Label('For example, input points (1, 0), (2, 3), (3, 7), (4, 14), (5, 22) as 1 0 2 3 3 7 4 14 5 22'),\n",
        "    html.Br(),\n",
        "    html.Br(),\n",
        "\n",
        "    html.Div([\n",
        "        html.Div([\n",
        "            html.Label('Degrees of Best-Fit Line: '),\n",
        "            dcc.Input(id='degrees', type='number', value=2),\n",
        "            \n",
        "            html.Div(id='eq'),\n",
        "            \n",
        "            html.Div(id='coefs', style={'display': 'none'}),\n",
        "            \n",
        "            dcc.Graph(id='graph'), \n",
        "            html.Br(),   \n",
        "\n",
        "            html.Label('Model Prediction for x = '),\n",
        "            dcc.Input(id='x', type='number'),\n",
        "            html.Br(),\n",
        "            html.Div(id='y'),\n",
        "        ], className=\"six columns\"),\n",
        "\n",
        "        html.Div([\n",
        "            html.Label('n-th Derivative of Model'),\n",
        "            dcc.Dropdown(id='derivDrop'),\n",
        "            html.Br(),\n",
        "            \n",
        "            html.Div(\n",
        "                id='derivs', \n",
        "                style={'display': 'none'},\n",
        "            ),\n",
        "            \n",
        "            html.Div(id='derivEq'),\n",
        "            \n",
        "            dcc.Graph(id='derivGraph'), \n",
        "            html.Br(),   \n",
        "\n",
        "            html.Label('n-th Derivative of Model at x = '),\n",
        "            dcc.Input(id='xDeriv', type='number'),\n",
        "            html.Br(),\n",
        "            html.Div(id='yDeriv'),\n",
        "        ], className=\"six columns\"),\n",
        "    ], className=\"row\"),\n",
        "])"
      ],
      "execution_count": 81,
      "outputs": []
    },
    {
      "cell_type": "markdown",
      "metadata": {
        "id": "5xrJdMfo2330",
        "colab_type": "text"
      },
      "source": [
        "Below is one of my two frontend functions. This one plots data and shows the best-fit line's equation.\n",
        "\n",
        "It takes a string of coordinates and the degree of polynomial desired for the best-fit line. It turns that string into a list of (x, y) pairs, then transposes that list to get a list of x-values and a list of y-values. I put those two lists into another list called traces, which I stores data that I will later plot.\n",
        "\n",
        "I initialize input field for degrees to -1, so that as soon as the user inputs a string of points, those points show up on the graph without a line of best fit. The user can immediately see whether they inputted their points correctly, without any other clutter.\n",
        "\n",
        "When the user changes the degree field to something nonnegative, my program performs all the linear algebra operations that find the line of best fit. I then get a bunch of x- and y-values along that line and add them to 'traces' for plotting.\n",
        "\n",
        "I also fill the string 'eq' (meaning equation), so that the user can see their best-fit equation and copy it in case they need it somewhere else. I round each coefficent to 9 places because I've noticed floating-point rounding errors, liked 7.3 showing up as 7.300000000000000001."
      ]
    },
    {
      "cell_type": "code",
      "metadata": {
        "id": "A8c1lLjrqjSA",
        "colab_type": "code",
        "colab": {}
      },
      "source": [
        "getEq = lambda coefs: ' + '.join([f'({round(coef, 9)}) x^{i}' for i, coef in enumerate(coefs)])"
      ],
      "execution_count": 82,
      "outputs": []
    },
    {
      "cell_type": "code",
      "metadata": {
        "id": "xmtpwxjjqAPt",
        "colab_type": "code",
        "colab": {}
      },
      "source": [
        "import json\n",
        "\n",
        "@app.callback(\n",
        "    [\n",
        "        Output('graph', 'figure'),\n",
        "        Output('eq', 'children'),\n",
        "        Output('coefs', 'children'),\n",
        "    ],\n",
        "    [\n",
        "        Input('points', 'value'),\n",
        "        Input('degrees', 'value'),\n",
        "    ]\n",
        ")\n",
        "def fillChart(points, degrees):\n",
        "    x, y=transpose(getPairs(points))\n",
        "    eq=''\n",
        "    coefs=[0]\n",
        "          \n",
        "    traces=[\n",
        "        dict(\n",
        "            x=x,\n",
        "            y=y,\n",
        "            mode='markers',\n",
        "            name='Data'\n",
        "        )\n",
        "    ]\n",
        "    \n",
        "    if degrees>=0:\n",
        "        coefs=getCoefs(x, y, degrees)\n",
        "\n",
        "        x1=randX(min(x), max(x))\n",
        "        y1=[f(coefs, x) for x in x1]\n",
        "\n",
        "        traces.append(\n",
        "            dict(\n",
        "                x=x1,\n",
        "                y=y1,\n",
        "                name='Line of Best Fit'\n",
        "            )\n",
        "        )\n",
        "        \n",
        "        eq=f'Model: f (x) = ' + getEq(coefs)\n",
        "    \n",
        "    return (\n",
        "        dict(\n",
        "            data=traces,\n",
        "            layout=dict(\n",
        "                hovermode='closest'\n",
        "            )\n",
        "        ),\n",
        "        eq,\n",
        "        json.dumps(coefs),\n",
        "    )"
      ],
      "execution_count": 83,
      "outputs": []
    },
    {
      "cell_type": "markdown",
      "metadata": {
        "id": "XQ6wiZAV5BWu",
        "colab_type": "text"
      },
      "source": [
        "The below function allows the user to get their model's predictions for any value of x."
      ]
    },
    {
      "cell_type": "code",
      "metadata": {
        "id": "x2gnuwSSqAP3",
        "colab_type": "code",
        "colab": {}
      },
      "source": [
        "@app.callback(\n",
        "    Output('y', 'children'),\n",
        "    [\n",
        "        Input('x', 'value'),\n",
        "        Input('coefs', 'children'),\n",
        "    ]\n",
        ")\n",
        "def predict(x, coefsString):       \n",
        "    coefs=json.loads(coefsString)\n",
        "    return f'f ({x}) = {round(f(coefs, x), 9)}'"
      ],
      "execution_count": 84,
      "outputs": []
    },
    {
      "cell_type": "code",
      "metadata": {
        "id": "3jBv_17cj3Kx",
        "colab_type": "code",
        "colab": {}
      },
      "source": [
        "derive = lambda coefs: [coef*(power+1) for power, coef in enumerate(coefs[1:])]"
      ],
      "execution_count": 85,
      "outputs": []
    },
    {
      "cell_type": "code",
      "metadata": {
        "id": "o34exfuRjiUb",
        "colab_type": "code",
        "colab": {}
      },
      "source": [
        "@app.callback(\n",
        "    [\n",
        "        Output('derivs', 'children'),    \n",
        "        Output('derivDrop', 'options'), \n",
        "    ],\n",
        "    [\n",
        "        Input('coefs', 'children'),\n",
        "    ]\n",
        ")\n",
        "def fillDrop(coefsString):       \n",
        "    coefs=json.loads(coefsString)\n",
        "    derivs=[coefs]\n",
        "    while len(derivs[-1])>1:\n",
        "        derivs.append(derive(derivs[-1]))\n",
        "\n",
        "    return [\n",
        "        json.dumps(derivs),\n",
        "        [dict(label = i, value = i) for i in range(len(derivs))],\n",
        "    ]    "
      ],
      "execution_count": 86,
      "outputs": []
    },
    {
      "cell_type": "code",
      "metadata": {
        "id": "T_5KVkTUky9v",
        "colab_type": "code",
        "colab": {}
      },
      "source": [
        "@app.callback(\n",
        "    [   \n",
        "        Output('derivGraph', 'figure'), \n",
        "        Output('derivEq', 'children'), \n",
        "    ],\n",
        "    [\n",
        "        Input('points', 'value'),\n",
        "        Input('derivs', 'children'),    \n",
        "        Input('derivDrop', 'value'), \n",
        "    ],\n",
        ")\n",
        "def plotDeriv(points, derivsString, nDeriv): \n",
        "    x, y=transpose(getPairs(points))\n",
        "    derivs=json.loads(derivsString)\n",
        "    coefs=derivs[nDeriv]\n",
        "\n",
        "    x1=randX(min(x), max(x))\n",
        "    y1=[f(coefs, x) for x in x1]\n",
        "    \n",
        "    return (\n",
        "        dict(\n",
        "            data=[\n",
        "                dict(\n",
        "                    x=x1,\n",
        "                    y=y1,\n",
        "                    name='Line of Best Fit'\n",
        "                ),\n",
        "            ],\n",
        "            layout=dict(\n",
        "                hovermode='closest'\n",
        "            )\n",
        "        ),\n",
        "        f'f_{nDeriv} (x) = {getEq(coefs)}',\n",
        "    )"
      ],
      "execution_count": 87,
      "outputs": []
    },
    {
      "cell_type": "code",
      "metadata": {
        "id": "h2Cr7gYYKg7y",
        "colab_type": "code",
        "colab": {}
      },
      "source": [
        "@app.callback(\n",
        "    Output('yDeriv', 'children'),\n",
        "    [\n",
        "        Input('xDeriv', 'value'),\n",
        "        Input('derivs', 'children'),  \n",
        "        Input('derivDrop', 'value'), \n",
        "    ]\n",
        ")\n",
        "def predictDeriv(x, derivsString, nDeriv):    \n",
        "    derivs=json.loads(derivsString)\n",
        "    coefs=derivs[nDeriv]\n",
        "\n",
        "    return f'f_{nDeriv} ({x}) = {round(f(coefs, x), 9)}'"
      ],
      "execution_count": 88,
      "outputs": []
    },
    {
      "cell_type": "markdown",
      "metadata": {
        "id": "n_bCE_po5Ptd",
        "colab_type": "text"
      },
      "source": [
        "There you have it! You can see my web app at work by making a copy of this Google Colab file, or by visiting the page 'Least-Squares Data Modeling' in the 'Web Apps' section of my website.\n",
        "\n",
        "Thank you for reading!\n",
        "\n",
        "George Fane"
      ]
    },
    {
      "cell_type": "code",
      "metadata": {
        "scrolled": false,
        "id": "KIz7Ue14qAQC",
        "colab_type": "code",
        "colab": {
          "base_uri": "https://localhost:8080/",
          "height": 671
        },
        "outputId": "19e61b2a-9406-480f-8690-65e7343187b6"
      },
      "source": [
        "app.run_server(mode='inline')"
      ],
      "execution_count": 89,
      "outputs": [
        {
          "output_type": "display_data",
          "data": {
            "text/plain": [
              "<IPython.lib.display.IFrame at 0x9ae8648>"
            ],
            "text/html": [
              "\n",
              "        <iframe\n",
              "            width=\"800\"\n",
              "            height=\"650\"\n",
              "            src=\"http://127.0.0.1:8050/\"\n",
              "            frameborder=\"0\"\n",
              "            allowfullscreen\n",
              "        ></iframe>\n",
              "        "
            ]
          },
          "metadata": {
            "tags": []
          }
        }
      ]
    }
  ]
}